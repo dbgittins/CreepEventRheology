{
 "cells": [
  {
   "cell_type": "markdown",
   "metadata": {},
   "source": [
    "# Creep detection via gradient and manual picking \n",
    "## Import packages"
   ]
  },
  {
   "cell_type": "code",
   "execution_count": null,
   "metadata": {},
   "outputs": [
    {
     "name": "stderr",
     "output_type": "stream",
     "text": [
      "/var/folders/56/47k8q3q1449cq8kwzkz5r8ch0000gr/T/ipykernel_32620/1278093874.py:7: DeprecationWarning: Importing display from IPython.core.display is deprecated since IPython 7.14, please import from IPython.display\n",
      "  from IPython.core.display import display, HTML\n"
     ]
    },
    {
     "data": {
      "text/html": [
       "<style>.container { width:100% !important; }</style>"
      ],
      "text/plain": [
       "<IPython.core.display.HTML object>"
      ]
     },
     "metadata": {},
     "output_type": "display_data"
    },
    {
     "data": {
      "text/html": [
       "<style>.container { width:100% !important; }</style>"
      ],
      "text/plain": [
       "<IPython.core.display.HTML object>"
      ]
     },
     "metadata": {},
     "output_type": "display_data"
    }
   ],
   "source": [
    "from IPython.core.display import display, HTML\n",
    "display(HTML(\"<style>.container { width:100% !important; }</style>\"))\n",
    "import creep_part_identify as cpi\n",
    "import Rheology_fitting_toolkit as rft"
   ]
  },
  {
   "cell_type": "markdown",
   "metadata": {},
   "source": [
    "## Import data from USGS text file for station"
   ]
  },
  {
   "cell_type": "markdown",
   "metadata": {},
   "source": [
    "### Extract the Year, time and Creep data into separate numpy arrays for creepmeter"
   ]
  },
  {
   "cell_type": "code",
   "execution_count": 14,
   "metadata": {},
   "outputs": [],
   "source": [
    "CREEPMETER='WKR'"
   ]
  },
  {
   "cell_type": "code",
   "execution_count": null,
   "metadata": {},
   "outputs": [],
   "source": [
    "tm, min10_creep, tm2, min10_creep2 = rft.import_text(CREEPMETER)"
   ]
  },
  {
   "cell_type": "code",
   "execution_count": null,
   "metadata": {},
   "outputs": [],
   "source": [
    "if CREEPMETER == 'XSJ' or CREEPMETER == 'XHR' or CREEPMETER == 'XPK':\n",
    "    tm_int, min10_creep_int = rft.interpolate(tm,min10_creep,CREEPMETER)\n",
    "    tm_int2, min10_creep_int2 = rft.interpolate(tm2,min10_creep2,CREEPMETER)\n",
    "elif CREEPMETER == 'XMR':\n",
    "    tm_int, min10_creep_int = rft.interpolate(tm,min10_creep,CREEPMETER)\n",
    "    tm_int2, min10_creep_int2 = rft.interpolate_1min(tm2,min10_creep2,CREEPMETER)\n",
    "else:\n",
    "    tm_int, min10_creep_int = rft.interpolate(tm,min10_creep,CREEPMETER)\n",
    "\n",
    "df_PICKS, duration, START = rft.creepmeter_events(CREEPMETER)"
   ]
  },
  {
   "cell_type": "code",
   "execution_count": null,
   "metadata": {},
   "outputs": [],
   "source": [
    "if CREEPMETER == 'XSJ' or CREEPMETER == 'XHR' or CREEPMETER == 'XPK':\n",
    "    data1  = rft.vel_acc(tm_int,min10_creep_int,10/60)\n",
    "    data2 = rft.vel_acc(tm_int2,min10_creep_int2,10/60)\n",
    "    data = data1.append(data2,ignore_index=True)\n",
    "elif CREEPMETER == 'XMR':\n",
    "    data1  = rft.vel_acc(tm_int,min10_creep_int,10/60)\n",
    "    data2 = rft.vel_acc_1min(tm_int2,min10_creep_int2,1/60)\n",
    "    data = data1.append(data2,ignore_index=True)\n",
    "else:\n",
    "    data = rft.vel_acc(tm_int,min10_creep_int,10/60)"
   ]
  },
  {
   "cell_type": "code",
   "execution_count": 20,
   "metadata": {},
   "outputs": [],
   "source": [
    "dataframes, creep_index = cpi.creep_event_dataframe(df_PICKS,duration, START, data,CREEPMETER)"
   ]
  },
  {
   "cell_type": "code",
   "execution_count": 24,
   "metadata": {},
   "outputs": [
    {
     "name": "stdout",
     "output_type": "stream",
     "text": [
      "0\n",
      "1\n",
      "2\n",
      "3\n",
      "4\n",
      "5\n",
      "6\n",
      "7\n",
      "8\n",
      "9\n",
      "10\n",
      "11\n",
      "12\n",
      "13\n",
      "14\n",
      "15\n",
      "16\n",
      "17\n",
      "18\n",
      "19\n",
      "20\n",
      "21\n",
      "22\n",
      "23\n",
      "24\n",
      "25\n",
      "26\n",
      "27\n",
      "28\n",
      "29\n",
      "30\n",
      "31\n",
      "32\n",
      "33\n",
      "34\n",
      "35\n",
      "36\n",
      "37\n",
      "38\n",
      "39\n",
      "40\n",
      "41\n",
      "42\n",
      "43\n",
      "44\n",
      "45\n",
      "46\n",
      "47\n",
      "48\n",
      "49\n",
      "50\n",
      "51\n",
      "52\n",
      "53\n",
      "54\n",
      "55\n",
      "56\n",
      "57\n",
      "58\n",
      "59\n",
      "60\n",
      "61\n",
      "62\n",
      "63\n",
      "64\n",
      "65\n",
      "66\n",
      "67\n",
      "68\n",
      "69\n",
      "70\n",
      "71\n"
     ]
    }
   ],
   "source": [
    "%matplotlib qt\n",
    "Creep_identified = cpi.creep_separator(dataframes,df_PICKS,CREEPMETER)"
   ]
  },
  {
   "cell_type": "code",
   "execution_count": null,
   "metadata": {},
   "outputs": [
    {
     "data": {
      "text/html": [
       "<div>\n",
       "<style scoped>\n",
       "    .dataframe tbody tr th:only-of-type {\n",
       "        vertical-align: middle;\n",
       "    }\n",
       "\n",
       "    .dataframe tbody tr th {\n",
       "        vertical-align: top;\n",
       "    }\n",
       "\n",
       "    .dataframe thead th {\n",
       "        text-align: right;\n",
       "    }\n",
       "</style>\n",
       "<table border=\"1\" class=\"dataframe\">\n",
       "  <thead>\n",
       "    <tr style=\"text-align: right;\">\n",
       "      <th></th>\n",
       "      <th>Ts</th>\n",
       "      <th>Ds</th>\n",
       "      <th>T01</th>\n",
       "      <th>D01</th>\n",
       "      <th>T02</th>\n",
       "      <th>D02</th>\n",
       "      <th>T03</th>\n",
       "      <th>D03</th>\n",
       "    </tr>\n",
       "  </thead>\n",
       "  <tbody>\n",
       "    <tr>\n",
       "      <th>0</th>\n",
       "      <td>0.016129</td>\n",
       "      <td>0.000872</td>\n",
       "      <td>2.02957</td>\n",
       "      <td>-0.013661</td>\n",
       "      <td>4.833333</td>\n",
       "      <td>2.19532</td>\n",
       "      <td>NaN</td>\n",
       "      <td>NaN</td>\n",
       "    </tr>\n",
       "  </tbody>\n",
       "</table>\n",
       "</div>"
      ],
      "text/plain": [
       "         Ts        Ds      T01       D01       T02      D02  T03  D03\n",
       "0  0.016129  0.000872  2.02957 -0.013661  4.833333  2.19532  NaN  NaN"
      ]
     },
     "execution_count": 12,
     "metadata": {},
     "output_type": "execute_result"
    }
   ],
   "source": [
    "Creep_identified.to_csv(\"../../Rheology/{k}/Creep_phases_{k}.csv\".format(k=CREEPMETER))"
   ]
  }
 ],
 "metadata": {
  "kernelspec": {
   "display_name": "Aseismic",
   "language": "python",
   "name": "python3"
  },
  "language_info": {
   "codemirror_mode": {
    "name": "ipython",
    "version": 3
   },
   "file_extension": ".py",
   "mimetype": "text/x-python",
   "name": "python",
   "nbconvert_exporter": "python",
   "pygments_lexer": "ipython3",
   "version": "3.10.18"
  }
 },
 "nbformat": 4,
 "nbformat_minor": 2
}
